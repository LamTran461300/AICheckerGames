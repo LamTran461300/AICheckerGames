{
 "metadata": {
  "language_info": {
   "codemirror_mode": {
    "name": "ipython",
    "version": 3
   },
   "file_extension": ".py",
   "mimetype": "text/x-python",
   "name": "python",
   "nbconvert_exporter": "python",
   "pygments_lexer": "ipython3",
   "version": "3.9.1-final"
  },
  "orig_nbformat": 2,
  "kernelspec": {
   "name": "python3",
   "display_name": "Python 3.9.1 64-bit",
   "metadata": {
    "interpreter": {
     "hash": "dcacb0086e9a4f4eabd41c33bf4faac5ea0a3337ed3f5eff0680afa930572c04"
    }
   }
  }
 },
 "nbformat": 4,
 "nbformat_minor": 2,
 "cells": [
  {
   "source": [
    "# **PYTHON CHECKER GAME PLAYED WITH SMART COMPUTER AI**\n",
    "### Creator: Lam Tran *(461300)*, Tri Kieu *(464376)*\n",
    "\n",
    "This purpose of this project/assignment is to create game-playing interface called checker (or draughts) using Pygame package that played with created with a programmed AI computer. AI computer can be made with the method of MinMax algorithms which mostly used in making board game interfaces. "
   ],
   "cell_type": "markdown",
   "metadata": {}
  },
  {
   "cell_type": "code",
   "execution_count": 1,
   "metadata": {},
   "outputs": [
    {
     "output_type": "stream",
     "name": "stdout",
     "text": [
      "pygame 2.0.1 (SDL 2.0.14, Python 3.8.5)\nHello from the pygame community. https://www.pygame.org/contribute.html\n"
     ]
    }
   ],
   "source": [
    "import pygame\n",
    "\n",
    "# Initialize the size of Board\n",
    "WIDTH, HEIGHT = 600,600\n",
    "ROW, COL = 8,8\n",
    "\n",
    "# Initialize the size of Square\n",
    "SQUARE_SIZE = HEIGHT // ROW\n",
    "\n",
    "# COLOR\n",
    "BLACK = (0,0,0)\n",
    "RED = (255,102,102)\n",
    "WHITE = (224,224,224)"
   ]
  },
  {
   "cell_type": "code",
   "execution_count": 2,
   "metadata": {},
   "outputs": [],
   "source": [
    "class Board:\n",
    "    def __init__(self):\n",
    "        self.board = []\n",
    "        self.chosen_piece = 0\n",
    "        self.white_left = self.red_left = 12\n",
    "        self.white_king = self.red_king =0\n",
    "\n",
    "    # First: Fill the whole board with color Black.\n",
    "    # Second: Then the red square is placed. It starts from the top left (coordinate (0,0)).\n",
    "    # cor_x, cor_y shows where to draw the sqaure (x and y coordinate).\n",
    "    \n",
    "    def draw_board(self, win):\n",
    "        win.fill(BLACK)\n",
    "        for row in range (ROW):\n",
    "            for col in range(row % 2, ROW ,2):\n",
    "                cor_x = row * SQUARE_SIZE\n",
    "                cor_y = col * SQUARE_SIZE\n",
    "                pygame.draw.rect(win,RED, (cor_x,cor_y,SQUARE_SIZE,SQUARE_SIZE))\n",
    "    \n",
    "    \n"
   ]
  },
  {
   "cell_type": "code",
   "execution_count": 3,
   "metadata": {},
   "outputs": [
    {
     "output_type": "error",
     "ename": "KeyboardInterrupt",
     "evalue": "",
     "traceback": [
      "\u001b[1;31m---------------------------------------------------------------------------\u001b[0m",
      "\u001b[1;31mKeyboardInterrupt\u001b[0m                         Traceback (most recent call last)",
      "\u001b[1;32m<ipython-input-3-f82d9b340a3d>\u001b[0m in \u001b[0;36m<module>\u001b[1;34m\u001b[0m\n\u001b[1;32m----> 1\u001b[1;33m \u001b[1;32mclass\u001b[0m \u001b[0mmain\u001b[0m\u001b[1;33m:\u001b[0m\u001b[1;33m\u001b[0m\u001b[1;33m\u001b[0m\u001b[0m\n\u001b[0m\u001b[0;32m      2\u001b[0m     \u001b[0mstatus\u001b[0m \u001b[1;33m=\u001b[0m \u001b[1;32mTrue\u001b[0m\u001b[1;33m\u001b[0m\u001b[1;33m\u001b[0m\u001b[0m\n\u001b[0;32m      3\u001b[0m     \u001b[0mboard\u001b[0m \u001b[1;33m=\u001b[0m \u001b[0mBoard\u001b[0m\u001b[1;33m(\u001b[0m\u001b[1;33m)\u001b[0m\u001b[1;33m\u001b[0m\u001b[1;33m\u001b[0m\u001b[0m\n\u001b[0;32m      4\u001b[0m     \u001b[0mFPS\u001b[0m \u001b[1;33m=\u001b[0m \u001b[1;36m60\u001b[0m\u001b[1;33m\u001b[0m\u001b[1;33m\u001b[0m\u001b[0m\n\u001b[0;32m      5\u001b[0m \u001b[1;33m\u001b[0m\u001b[0m\n",
      "\u001b[1;32m<ipython-input-3-f82d9b340a3d>\u001b[0m in \u001b[0;36mmain\u001b[1;34m()\u001b[0m\n\u001b[0;32m     10\u001b[0m \u001b[1;33m\u001b[0m\u001b[0m\n\u001b[0;32m     11\u001b[0m     \u001b[1;32mwhile\u001b[0m \u001b[0mstatus\u001b[0m \u001b[1;33m==\u001b[0m \u001b[1;32mTrue\u001b[0m\u001b[1;33m:\u001b[0m\u001b[1;33m\u001b[0m\u001b[1;33m\u001b[0m\u001b[0m\n\u001b[1;32m---> 12\u001b[1;33m         \u001b[0mclock\u001b[0m\u001b[1;33m.\u001b[0m\u001b[0mtick\u001b[0m\u001b[1;33m(\u001b[0m\u001b[0mFPS\u001b[0m\u001b[1;33m)\u001b[0m\u001b[1;33m\u001b[0m\u001b[1;33m\u001b[0m\u001b[0m\n\u001b[0m\u001b[0;32m     13\u001b[0m \u001b[1;33m\u001b[0m\u001b[0m\n\u001b[0;32m     14\u001b[0m         \u001b[1;32mfor\u001b[0m \u001b[0maction\u001b[0m \u001b[1;32min\u001b[0m \u001b[0mpygame\u001b[0m\u001b[1;33m.\u001b[0m\u001b[0mevent\u001b[0m\u001b[1;33m.\u001b[0m\u001b[0mget\u001b[0m\u001b[1;33m(\u001b[0m\u001b[1;33m)\u001b[0m\u001b[1;33m:\u001b[0m\u001b[1;33m\u001b[0m\u001b[1;33m\u001b[0m\u001b[0m\n",
      "\u001b[1;31mKeyboardInterrupt\u001b[0m: "
     ]
    }
   ],
   "source": [
    "class main:\n",
    "    status = True\n",
    "    board = Board()\n",
    "    FPS = 60\n",
    "\n",
    "    WINDOW = pygame.display.set_mode((WIDTH,HEIGHT))\n",
    "    pygame.display.set_caption(\"Checkers\")\n",
    "\n",
    "    clock = pygame.time.Clock()\n",
    "\n",
    "    while status == True:\n",
    "        clock.tick(FPS)\n",
    "\n",
    "        for action in pygame.event.get():\n",
    "            if action == pygame.QUIT:\n",
    "                status = False\n",
    "            \n",
    "            if action == pygame.MOUSEBUTTONDOWN:\n",
    "                pass\n",
    "            \n",
    "        board.draw_board(WINDOW)\n",
    "        pygame.display.update()\n",
    "    \n",
    "    pygame.quit()\n",
    "\n"
   ]
  }
 ]
}