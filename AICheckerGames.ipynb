{
 "metadata": {
  "language_info": {
   "codemirror_mode": {
    "name": "ipython",
    "version": 3
   },
   "file_extension": ".py",
   "mimetype": "text/x-python",
   "name": "python",
   "nbconvert_exporter": "python",
   "pygments_lexer": "ipython3",
   "version": "3.8.5-final"
  },
  "orig_nbformat": 2,
  "kernelspec": {
   "name": "python3",
   "display_name": "Python 3",
   "language": "python"
  }
 },
 "nbformat": 4,
 "nbformat_minor": 2,
 "cells": [
  {
   "source": [
    "# PYTHON CHECKER GAME PLAYED WITH SMART COMPUTER AI\n",
    "## Creator: Lam Tran *(461300)*, Tri Kieu *(464376)*\n",
    "\n",
    "This purpose of this project/assignment is to create game-playing interface called checker (or draughts) using Pygame package that played with created with a programmed AI computer. AI computer can be made with the method of MinMax algorithms which mostly used in making board game interfaces. The first thing to initialize a constant value for the size of a board, checker pieces, and each square from the board. Addtionally, it is also important to give the checker game interface some color as well using RGB color code."
   ],
   "cell_type": "markdown",
   "metadata": {}
  },
  {
   "cell_type": "code",
   "execution_count": 6,
   "metadata": {},
   "outputs": [],
   "source": [
    "import pygame\n",
    "\n",
    "# Initialize the size of Board\n",
    "WIDTH, HEIGHT = 600,600\n",
    "ROW, COL = 8,8\n",
    "\n",
    "# Initialize the size of Square\n",
    "SQUARE_SIZE = HEIGHT // ROW\n",
    "\n",
    "# COLOR\n",
    "BLACK = (0,0,0)\n",
    "LIGHTBROWN = (221,189,137)\n",
    "DARKBROWN = (140,93,54)\n",
    "WHITE = (225,225,225)\n",
    "GREY = (128, 128, 128)\n",
    "\n",
    "# Load King\n",
    "crown = pygame.transform.scale(pygame.image.load('king_master.png'),(40,20))"
   ]
  },
  {
   "source": [
    "### Step 1: Creating checker pieces\n",
    "This class *Piece* will create each and every checker pieces on the board and gives them all the appropriate location of board at the start of the game. It also rewrite the location of the pieces when the player or AI start to make a move. "
   ],
   "cell_type": "markdown",
   "metadata": {}
  },
  {
   "cell_type": "code",
   "execution_count": 7,
   "metadata": {},
   "outputs": [],
   "source": [
    "class Piece:\n",
    "    \n",
    "    #Private variables to draw checker pieces\n",
    "    PADDING = 8\n",
    "    OUTLINE = 2\n",
    "    \n",
    "    def __init__(self, row, col, color):\n",
    "        self.row = row\n",
    "        self.col = col\n",
    "        self.color = color\n",
    "        self.isKing = False\n",
    "        self.x_coord = 0\n",
    "        self.y_coord = 0\n",
    "        self.piece_location()\n",
    "\n",
    "    #Give each pieces a proper location at the start or current state of a game\n",
    "    def piece_location(self):\n",
    "        self.x_coord = SQUARE_SIZE * self.col + SQUARE_SIZE // 2\n",
    "        self.y_coord = SQUARE_SIZE * self.row + SQUARE_SIZE // 2\n",
    "\n",
    "    # Draw one checker piece when this function is called \n",
    "    def draw_piece(self, win):\n",
    "        radius = SQUARE_SIZE//2 - self.PADDING\n",
    "        outline = radius + self.OUTLINE\n",
    "        pygame.draw.circle(win, GREY, (self.x_coord, self.y_coord), outline)\n",
    "        pygame.draw.circle(win, self.color, (self.x_coord, self.y_coord), radius)\n",
    "\n",
    "        if self.isKing:\n",
    "            win.blit(crown,(self.x_coord - crown.get_width() // 2,self.y_coord - crown.get_height() //2))\n",
    "    \n",
    "    # Become a king\n",
    "    def become_king (self):\n",
    "        self.isKing = True\n",
    "\n",
    "    # Move a piece\n",
    "    def move(self,row,col):\n",
    "        self.row = row\n",
    "        self.col = col\n",
    "        self.piece_location()"
   ]
  },
  {
   "source": [
    "### Step 2: Creating checker board game\n",
    "Within the class called *\"Board\"*, the main program will display the board on application simply by calling the *display_board()* function on *main* class with a required parameter **WINDOW** that had a blank interface for a function *draw_board()* to draw. Additionally, class *Board* data (variable) about the current state of board game, the remaining of normal or king pieces on a board. "
   ],
   "cell_type": "markdown",
   "metadata": {}
  },
  {
   "cell_type": "code",
   "execution_count": 8,
   "metadata": {},
   "outputs": [],
   "source": [
    "class Board:\n",
    "    def __init__(self):\n",
    "        self.board = []\n",
    "        self.chosen_piece = 0\n",
    "        self.white_left = self.black_left = 12\n",
    "        self.white_king = self.black_king = 0\n",
    "        self.add_pieces_to_board()\n",
    "        \n",
    "\n",
    "    # First: Fill the whole board with Dark Brown color.\n",
    "    # Second: Then the light brown square is placed. It starts from the top left (coordinate (0,0)).\n",
    "    # cor_x, cor_y shows where to draw the square (x and y coordinate).\n",
    "    def draw_board(self, win):\n",
    "        win.fill(DARKBROWN)\n",
    "        for row in range (ROW):\n",
    "            for col in range(row % 2, ROW ,2):\n",
    "                cor_x = row * SQUARE_SIZE\n",
    "                cor_y = col * SQUARE_SIZE\n",
    "                pygame.draw.rect(win,LIGHTBROWN, (cor_x,cor_y,SQUARE_SIZE,SQUARE_SIZE))\n",
    "\n",
    "    # Adding all the checker pieces on the board at specific coordination\n",
    "    # In terms of specific coordination, it shows how and where the pieces place at the start of a game\n",
    "    # 0 represent empty space in the board game, whereas object from class Piece will put in that square\n",
    "    def add_pieces_to_board(self):\n",
    "        for row in range(ROW):\n",
    "            self.board.append([])\n",
    "            for col in range(COL):\n",
    "                if col % 2 == ((row + 1) % 2):\n",
    "                    if row < 3:\n",
    "                        self.board[row].append(Piece(row, col, BLACK))\n",
    "                    elif row > 4:\n",
    "                        self.board[row].append(Piece(row, col, WHITE))\n",
    "                    else:\n",
    "                        self.board[row].append(0)\n",
    "                else:\n",
    "                    self.board[row].append(0)\n",
    "    \n",
    "    #Display the board along with other checker pieces at the start of a game\n",
    "    def display_board(self, win):\n",
    "        self.draw_board(win)\n",
    "        for row in range(ROW):\n",
    "            for col in range(COL):\n",
    "                checker_piece = self.board[row][col]\n",
    "                if checker_piece != 0: # If it is not empty (!=0), draw the piece in that coordination\n",
    "                    checker_piece.draw_piece(win) \n",
    "\n",
    "    def move_piece(self,piece,row,col):\n",
    "        self.board[piece.row][piece.col], self.board[row][col] = self.board[row][col], self.board[piece.row][piece.col]\n",
    "        piece.move(row, col)\n",
    "\n",
    "        if row == ROW - 1 or row == 0:\n",
    "            piece.make_king()\n",
    "            if piece.color == WHITE:\n",
    "                self.white_kings += 1\n",
    "            else:\n",
    "                self.red_kings += 1 \n",
    "\n",
    "\n",
    "    def get_pos(self,row,col):\n",
    "        return self.board[row][col]"
   ]
  },
  {
   "source": [
    "### Step 3: Mouse Class Handling\n",
    "This will receive the mouse position"
   ],
   "cell_type": "markdown",
   "metadata": {}
  },
  {
   "cell_type": "code",
   "execution_count": 9,
   "metadata": {},
   "outputs": [],
   "source": [
    "def mouse_pos_cal_mouse(pos):\n",
    "    x, y = pos\n",
    "    row = y // SQUARE_SIZE\n",
    "    col = x // SQUARE_SIZE\n",
    "    return row,col\n",
    "    "
   ]
  },
  {
   "source": [
    "### MAIN CLASS PROGRAM\n",
    "This main class is where to start the checker game after running all the classes above.  "
   ],
   "cell_type": "markdown",
   "metadata": {}
  },
  {
   "cell_type": "code",
   "execution_count": null,
   "metadata": {},
   "outputs": [],
   "source": []
  },
  {
   "cell_type": "code",
   "execution_count": 10,
   "metadata": {},
   "outputs": [
    {
     "output_type": "error",
     "ename": "AttributeError",
     "evalue": "'int' object has no attribute 'row'",
     "traceback": [
      "\u001b[1;31m---------------------------------------------------------------------------\u001b[0m",
      "\u001b[1;31mAttributeError\u001b[0m                            Traceback (most recent call last)",
      "\u001b[1;32m<ipython-input-10-8ff3966d9acf>\u001b[0m in \u001b[0;36m<module>\u001b[1;34m\u001b[0m\n\u001b[1;32m----> 1\u001b[1;33m \u001b[1;32mclass\u001b[0m \u001b[0mmain\u001b[0m\u001b[1;33m:\u001b[0m\u001b[1;33m\u001b[0m\u001b[1;33m\u001b[0m\u001b[0m\n\u001b[0m\u001b[0;32m      2\u001b[0m \u001b[1;33m\u001b[0m\u001b[0m\n\u001b[0;32m      3\u001b[0m     \u001b[0mstatus\u001b[0m \u001b[1;33m=\u001b[0m \u001b[1;32mTrue\u001b[0m\u001b[1;33m\u001b[0m\u001b[1;33m\u001b[0m\u001b[0m\n\u001b[0;32m      4\u001b[0m     \u001b[0mboard\u001b[0m \u001b[1;33m=\u001b[0m \u001b[0mBoard\u001b[0m\u001b[1;33m(\u001b[0m\u001b[1;33m)\u001b[0m\u001b[1;33m\u001b[0m\u001b[1;33m\u001b[0m\u001b[0m\n\u001b[0;32m      5\u001b[0m     \u001b[0mFPS\u001b[0m \u001b[1;33m=\u001b[0m \u001b[1;36m60\u001b[0m\u001b[1;33m\u001b[0m\u001b[1;33m\u001b[0m\u001b[0m\n",
      "\u001b[1;32m<ipython-input-10-8ff3966d9acf>\u001b[0m in \u001b[0;36mmain\u001b[1;34m()\u001b[0m\n\u001b[0;32m     20\u001b[0m                 \u001b[0mrow\u001b[0m\u001b[1;33m,\u001b[0m\u001b[0mcol\u001b[0m \u001b[1;33m=\u001b[0m \u001b[0mmouse_pos_cal_mouse\u001b[0m\u001b[1;33m(\u001b[0m\u001b[0mplace\u001b[0m\u001b[1;33m)\u001b[0m\u001b[1;33m\u001b[0m\u001b[1;33m\u001b[0m\u001b[0m\n\u001b[0;32m     21\u001b[0m                 \u001b[0mpiece\u001b[0m \u001b[1;33m=\u001b[0m \u001b[0mboard\u001b[0m\u001b[1;33m.\u001b[0m\u001b[0mget_pos\u001b[0m\u001b[1;33m(\u001b[0m\u001b[0mrow\u001b[0m\u001b[1;33m,\u001b[0m\u001b[0mcol\u001b[0m\u001b[1;33m)\u001b[0m\u001b[1;33m\u001b[0m\u001b[1;33m\u001b[0m\u001b[0m\n\u001b[1;32m---> 22\u001b[1;33m                 \u001b[0mboard\u001b[0m\u001b[1;33m.\u001b[0m\u001b[0mmove_piece\u001b[0m\u001b[1;33m(\u001b[0m\u001b[0mpiece\u001b[0m\u001b[1;33m,\u001b[0m \u001b[1;36m5\u001b[0m\u001b[1;33m,\u001b[0m\u001b[1;36m6\u001b[0m\u001b[1;33m)\u001b[0m\u001b[1;33m\u001b[0m\u001b[1;33m\u001b[0m\u001b[0m\n\u001b[0m\u001b[0;32m     23\u001b[0m \u001b[1;33m\u001b[0m\u001b[0m\n\u001b[0;32m     24\u001b[0m \u001b[1;33m\u001b[0m\u001b[0m\n",
      "\u001b[1;32m<ipython-input-8-6de85d43b536>\u001b[0m in \u001b[0;36mmove_piece\u001b[1;34m(self, piece, row, col)\u001b[0m\n\u001b[0;32m     46\u001b[0m \u001b[1;33m\u001b[0m\u001b[0m\n\u001b[0;32m     47\u001b[0m     \u001b[1;32mdef\u001b[0m \u001b[0mmove_piece\u001b[0m\u001b[1;33m(\u001b[0m\u001b[0mself\u001b[0m\u001b[1;33m,\u001b[0m\u001b[0mpiece\u001b[0m\u001b[1;33m,\u001b[0m\u001b[0mrow\u001b[0m\u001b[1;33m,\u001b[0m\u001b[0mcol\u001b[0m\u001b[1;33m)\u001b[0m\u001b[1;33m:\u001b[0m\u001b[1;33m\u001b[0m\u001b[1;33m\u001b[0m\u001b[0m\n\u001b[1;32m---> 48\u001b[1;33m         \u001b[0mself\u001b[0m\u001b[1;33m.\u001b[0m\u001b[0mboard\u001b[0m\u001b[1;33m[\u001b[0m\u001b[0mpiece\u001b[0m\u001b[1;33m.\u001b[0m\u001b[0mrow\u001b[0m\u001b[1;33m]\u001b[0m\u001b[1;33m[\u001b[0m\u001b[0mpiece\u001b[0m\u001b[1;33m.\u001b[0m\u001b[0mcol\u001b[0m\u001b[1;33m]\u001b[0m\u001b[1;33m,\u001b[0m \u001b[0mself\u001b[0m\u001b[1;33m.\u001b[0m\u001b[0mboard\u001b[0m\u001b[1;33m[\u001b[0m\u001b[0mrow\u001b[0m\u001b[1;33m]\u001b[0m\u001b[1;33m[\u001b[0m\u001b[0mcol\u001b[0m\u001b[1;33m]\u001b[0m \u001b[1;33m=\u001b[0m \u001b[0mself\u001b[0m\u001b[1;33m.\u001b[0m\u001b[0mboard\u001b[0m\u001b[1;33m[\u001b[0m\u001b[0mrow\u001b[0m\u001b[1;33m]\u001b[0m\u001b[1;33m[\u001b[0m\u001b[0mcol\u001b[0m\u001b[1;33m]\u001b[0m\u001b[1;33m,\u001b[0m \u001b[0mself\u001b[0m\u001b[1;33m.\u001b[0m\u001b[0mboard\u001b[0m\u001b[1;33m[\u001b[0m\u001b[0mpiece\u001b[0m\u001b[1;33m.\u001b[0m\u001b[0mrow\u001b[0m\u001b[1;33m]\u001b[0m\u001b[1;33m[\u001b[0m\u001b[0mpiece\u001b[0m\u001b[1;33m.\u001b[0m\u001b[0mcol\u001b[0m\u001b[1;33m]\u001b[0m\u001b[1;33m\u001b[0m\u001b[1;33m\u001b[0m\u001b[0m\n\u001b[0m\u001b[0;32m     49\u001b[0m         \u001b[0mpiece\u001b[0m\u001b[1;33m.\u001b[0m\u001b[0mmove\u001b[0m\u001b[1;33m(\u001b[0m\u001b[0mrow\u001b[0m\u001b[1;33m,\u001b[0m \u001b[0mcol\u001b[0m\u001b[1;33m)\u001b[0m\u001b[1;33m\u001b[0m\u001b[1;33m\u001b[0m\u001b[0m\n\u001b[0;32m     50\u001b[0m \u001b[1;33m\u001b[0m\u001b[0m\n",
      "\u001b[1;31mAttributeError\u001b[0m: 'int' object has no attribute 'row'"
     ]
    }
   ],
   "source": [
    "class main:\n",
    "    \n",
    "    status = True\n",
    "    board = Board()\n",
    "    FPS = 60\n",
    "\n",
    "    WINDOW = pygame.display.set_mode((WIDTH,HEIGHT))\n",
    "    pygame.display.set_caption(\"Checkers\")\n",
    "\n",
    "    clock = pygame.time.Clock()\n",
    "\n",
    "    while status == True:\n",
    "        clock.tick(FPS)\n",
    "\n",
    "        for action in pygame.event.get():\n",
    "            if action.type == pygame.QUIT:\n",
    "                status = False          \n",
    "            if action.type == pygame.MOUSEBUTTONDOWN:\n",
    "                place = pygame.mouse.get_pos()\n",
    "                row,col = mouse_pos_cal_mouse(place)\n",
    "                piece = board.get_pos(row,col)\n",
    "                board.move_piece(piece, 5,6)\n",
    "\n",
    "\n",
    "        board.display_board(WINDOW)\n",
    "        pygame.display.update()\n",
    "    \n",
    "    pygame.quit()\n",
    "\n"
   ]
  },
  {
   "cell_type": "code",
   "execution_count": 7,
   "metadata": {},
   "outputs": [],
   "source": []
  }
 ]
}