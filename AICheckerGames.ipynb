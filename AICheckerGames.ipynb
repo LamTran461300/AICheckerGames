{
 "metadata": {
  "language_info": {
   "codemirror_mode": {
    "name": "ipython",
    "version": 3
   },
   "file_extension": ".py",
   "mimetype": "text/x-python",
   "name": "python",
   "nbconvert_exporter": "python",
   "pygments_lexer": "ipython3",
   "version": 3
  },
  "orig_nbformat": 2
 },
 "nbformat": 4,
 "nbformat_minor": 2,
 "cells": [
  {
   "source": [
    "# **PYTHON CHECKER GAME PLAYED WITH SMART COMPUTER AI**\n",
    "### Creator: Lam Tran *(461300)*, Tri Kieu *(464376)*\n",
    "\n",
    "This purpose of this project/assignment is to create game-playing interface called checker (or draughts) using Pygame package that played with created with a programmed AI computer. AI computer can be made with the method of MinMax algorithms which mostly used in making board game interfaces. "
   ],
   "cell_type": "markdown",
   "metadata": {}
  }
 ]
}